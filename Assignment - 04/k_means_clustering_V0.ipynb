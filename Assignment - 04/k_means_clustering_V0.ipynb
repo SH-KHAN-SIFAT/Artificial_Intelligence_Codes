{
 "cells": [
  {
   "cell_type": "code",
   "execution_count": 6,
   "metadata": {
    "colab": {
     "base_uri": "https://localhost:8080/",
     "height": 534
    },
    "id": "MZ3Z_OrunKAy",
    "outputId": "bb8f567f-6cf2-4384-9925-7e857b8565f7"
   },
   "outputs": [
    {
     "name": "stdout",
     "output_type": "stream",
     "text": [
      "[54.238280819288015, 25.785004287326466]\n",
      "[60.333169276317186, 31.510688900448653]\n",
      "[60.660036867311035, 13.296676833746114]\n",
      "[62.205018765018735, 23.108102109693643]\n",
      "[59.909799446664515, 5.233268656063462]\n",
      "Inertia: 266825.95690370514\n"
     ]
    },
    {
     "data": {
      "image/png": "[encoded data removed]",
      "text/plain": [
       "<Figure size 432x288 with 1 Axes>"
      ]
     },
     "metadata": {
      "needs_background": "light"
     },
     "output_type": "display_data"
    }
   ],
   "source": [
    "import random\n",
    "import math\n",
    "import matplotlib.pyplot as plt\n",
    "from numpy import genfromtxt\n",
    "\n",
    "# Set K value\n",
    "K = 7\n",
    "\n",
    "# Load dataset into 2D list \"Data\"\n",
    "# Assuming Data is a list of 2D points\n",
    "data_path = 'data.csv'\n",
    "data = genfromtxt(data_path, delimiter=',')\n",
    "Data = data.tolist()\n",
    "for i in range(5):\n",
    "  print(Data[i])\n",
    "type(Data)\n",
    "\n",
    "\n",
    "# Randomly select K different data points from \"Data\" and store them into 2D list \"Centers\"\n",
    "Centers = random.sample(Data, K)\n",
    "\n",
    "# Initialize a 2D list named \"Clusters\" which contains K 1D lists for the K centers\n",
    "Clusters = [[] for i in range(K)]\n",
    "\n",
    "# for each sample/ data point \"S\" in \"Data\":\n",
    "# identify the center “C_i” that is the closest to “S”\n",
    "# Append \"S\" in \"i\"th list of \"Clusters\"\n",
    "for S in Data:\n",
    "    minDist = math.inf\n",
    "    minIdx = -1\n",
    "    for i in range(K):\n",
    "        dist = math.dist(S, Centers[i])\n",
    "        if dist < minDist:\n",
    "            minDist = dist\n",
    "            minIdx = i\n",
    "    Clusters[minIdx].append(S)\n",
    "\n",
    "itr = 1\n",
    "Shift = 0\n",
    "while True:\n",
    "    for i in range(K):\n",
    "        # Determine the average of the data points. This is the new center of this list.\n",
    "        if Clusters[i]:\n",
    "            Centers[i] = [sum(x)/len(Clusters[i]) for x in zip(*Clusters[i])]\n",
    "\n",
    "    if itr > 1 and Shift < 50:\n",
    "        break # convergence\n",
    "\n",
    "    Shift = 0\n",
    "    Temp_Clusters = [[] for i in range(K)]\n",
    "    for S in Data:\n",
    "        minDist = math.inf\n",
    "        minIdx = -1\n",
    "        for i in range(K):\n",
    "            dist = math.dist(S, Centers[i])\n",
    "            if dist < minDist:\n",
    "                minDist = dist\n",
    "                minIdx = i\n",
    "        Temp_Clusters[minIdx].append(S)\n",
    "\n",
    "        # if S belongs to different clusters in \"Clusters\" and \"Temp_Clusters\" then \"Shift\" = \"Shift\" + 1\n",
    "        if minIdx != [j for j in range(K) if S in Clusters[j]][0]:\n",
    "            Shift += 1\n",
    "\n",
    "    # Assign \"Temp_Clusters\" to \"Clusters\"\n",
    "    Clusters = Temp_Clusters\n",
    "    itr += 1\n",
    "\n",
    "# Plot the clusters with appropriate color\n",
    "colors = ['b', 'g', 'r', 'c', 'm', 'y', 'k']\n",
    "for i in range(K):\n",
    "    x = [p[0] for p in Clusters[i]]\n",
    "    y = [p[1] for p in Clusters[i]]\n",
    "    plt.scatter(x, y, c=colors[i%7])\n",
    "\n",
    "# \"inertia\" = 0\n",
    "inertia = 0\n",
    "for i in range(K):\n",
    "    # sum of distances-square of data points of \"L\" from the center\n",
    "    inertia += sum([(math.dist(x, Centers[i]) ** 2) for x in Clusters[i]])\n",
    "\n",
    "print(\"Inertia:\", inertia)\n",
    "\n",
    "plt.show()\n"
   ]
  },
  {
   "cell_type": "code",
   "execution_count": null,
   "metadata": {},
   "outputs": [],
   "source": []
  },
  {
   "cell_type": "code",
   "execution_count": null,
   "metadata": {},
   "outputs": [],
   "source": []
  }
 ],
 "metadata": {
  "colab": {
   "provenance": []
  },
  "kernelspec": {
   "display_name": "Python 3 (ipykernel)",
   "language": "python",
   "name": "python3"
  },
  "language_info": {
   "codemirror_mode": {
    "name": "ipython",
    "version": 3
   },
   "file_extension": ".py",
   "mimetype": "text/x-python",
   "name": "python",
   "nbconvert_exporter": "python",
   "pygments_lexer": "ipython3",
   "version": "3.9.13"
  }
 },
 "nbformat": 4,
 "nbformat_minor": 1
}
